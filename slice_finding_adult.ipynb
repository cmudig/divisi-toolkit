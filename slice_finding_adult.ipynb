{
 "cells": [
  {
   "cell_type": "code",
   "execution_count": null,
   "id": "566ab553-91ba-49dc-94d7-37e81024c91e",
   "metadata": {},
   "outputs": [],
   "source": [
    "import numpy as np\n",
    "import pandas as pd\n",
    "import matplotlib.pyplot as plt\n",
    "import tqdm\n",
    "import os\n",
    "\n",
    "import xgboost\n",
    "from sklearn.model_selection import train_test_split\n",
    "\n",
    "import slice_finding as sf\n",
    "from importlib import reload\n",
    "reload(sf);"
   ]
  },
  {
   "cell_type": "code",
   "execution_count": null,
   "id": "4e339dfe-6c21-4972-80b4-4ae71b877bf3",
   "metadata": {},
   "outputs": [],
   "source": [
    "df = pd.read_csv(\"example_data/adult.csv\")\n",
    "df.head()"
   ]
  },
  {
   "cell_type": "code",
   "execution_count": null,
   "id": "78e44cc9-104a-40a3-ac99-6bc9ad3b642b",
   "metadata": {},
   "outputs": [],
   "source": [
    "def _assign_bin_values(col_data, bin_spec):\n",
    "    lower = bin_spec.get(\"min\", np.quantile(col_data, 0.25))\n",
    "    upper = bin_spec.get(\"max\", np.quantile(col_data, 0.75))\n",
    "    assert lower < upper, (lower, upper)\n",
    "    return np.digitize(col_data, [lower, upper])\n",
    "\n",
    "def extreme_value_binning(col_name, col_data, gender_data):\n",
    "    if col_name not in NORMAL_RANGES:\n",
    "        return np.digitize(col_data, np.quantile(col_data, [0.25, 0.75]))\n",
    "    norm_range = NORMAL_RANGES[col_name]\n",
    "    if \"female\" in norm_range:\n",
    "        return np.where(gender_data, \n",
    "                        _assign_bin_values(col_data, norm_range[\"female\"]),\n",
    "                        _assign_bin_values(col_data, norm_range[\"male\"]))\n",
    "    return _assign_bin_values(col_data, norm_range)\n",
    "\n",
    "def discretize_data(df, spec):\n",
    "    discrete_columns = {}\n",
    "    for col, col_spec in spec.items():\n",
    "        if callable(col_spec[\"method\"]):\n",
    "            discrete_columns[col] = col_spec[\"method\"](df[col], col)\n",
    "        elif col_spec[\"method\"] == \"keep\":\n",
    "            discrete_columns[col] = df[col].values\n",
    "        elif col_spec[\"method\"] == \"bin\":\n",
    "            discrete_columns[col] = np.digitize(df[col], col_spec[\"bins\"]) - 1\n",
    "        elif col_spec[\"method\"] == \"unique\":\n",
    "            unique_vals = sorted(df[col].unique().tolist())\n",
    "            discrete_columns[col] = df[col].apply(lambda v: unique_vals.index(v))\n",
    "    return pd.DataFrame(discrete_columns, index=df.index)\n",
    "\n",
    "discrete_df = discretize_data(df, {\n",
    "    'age': { \"method\": \"bin\", \"bins\": [0, 25, 45, 65] }, \n",
    "    'workclass': { \"method\": \"unique\" }, \n",
    "    'education': { \"method\": \"unique\" }, \n",
    "    'marital-status': { \"method\": \"unique\" }, \n",
    "    'occupation': { \"method\": \"unique\" }, \n",
    "    'relationship': { \"method\": \"unique\" }, \n",
    "    'race': { \"method\": \"unique\" }, \n",
    "    'gender': { \"method\": \"unique\" },   \n",
    "    'capital-gain': { \"method\": \"bin\", \"bins\": [0, 1] }, \n",
    "    'capital-loss': { \"method\": \"bin\", \"bins\": [0, 1] }, \n",
    "    'hours-per-week': { \"method\": \"bin\", \"bins\": [0, 39] }, \n",
    "    'native-country': { \"method\": lambda x, c: x != 'United-States' },\n",
    "})"
   ]
  },
  {
   "cell_type": "code",
   "execution_count": null,
   "id": "5e659ff5-d18d-4cd8-b4a5-df4d2b174f6c",
   "metadata": {},
   "outputs": [],
   "source": [
    "df_prepped = df.drop(columns=['fnlwgt', 'educational-num'])\n",
    "\n",
    "X = df_prepped.drop(columns=['income'])\n",
    "y = df_prepped['income'] == '>50K'\n",
    "\n",
    "X_continous  = X[['age', 'capital-gain', 'capital-loss', 'hours-per-week']]\n",
    "\n",
    "X_categorical = X[['workclass', 'education', 'marital-status', 'occupation', 'relationship', 'race',\n",
    "                   'gender', 'native-country']]\n",
    "\n",
    "X_encoded = pd.get_dummies(X_categorical)\n",
    "X = pd.concat([X_continous, X_encoded], axis=1)"
   ]
  },
  {
   "cell_type": "code",
   "execution_count": null,
   "id": "3a638738-83bc-49d6-9e73-faef84049860",
   "metadata": {},
   "outputs": [],
   "source": [
    "if not os.path.exists(\"example_data/adult_model.json\"):\n",
    "    X_train, X_test, y_train, y_test = train_test_split(X, y, test_size=0.3, stratify=y)\n",
    "\n",
    "    model = xgboost.XGBClassifier()\n",
    "    model.fit(X_train, y_train)\n",
    "\n",
    "    print(model.score(X_test, y_test))\n",
    "\n",
    "    model.save_model(\"example_data/adult_model.json\")\n",
    "else:\n",
    "    model = xgboost.XGBClassifier()\n",
    "    model.load_model(\"example_data/adult_model.json\")"
   ]
  },
  {
   "cell_type": "code",
   "execution_count": null,
   "id": "8323c671-5a6f-4523-94ab-966b17742b3e",
   "metadata": {},
   "outputs": [],
   "source": [
    "outcome_bins = 10\n",
    "model_preds = model.predict(X)\n",
    "discrete_outcomes = model_preds == y # df[\"income\"] == \">50K\"\n",
    "print(discrete_outcomes.mean())\n",
    "\n",
    "# Set up score functions\n",
    "score_functions = {\n",
    "    \"error_rate\": sf.OutcomeRateScore(1 - discrete_outcomes.values),\n",
    "    \"group_size\": sf.SliceSizeScore(0.5, spread=0.25),\n",
    "}\n",
    "\n",
    "# the slices must contain at least this fraction of the dataset.\n",
    "# a higher value would mean that fewer slices are eligible, and\n",
    "# also that sampling is more likely to work well\n",
    "min_items = int(len(discrete_df) * 0.001)\n",
    "\n",
    "num_slices_to_return = 50\n",
    "\n",
    "max_features = 3"
   ]
  },
  {
   "cell_type": "markdown",
   "id": "4b1408c1-ccc9-491b-a039-a609c52b588d",
   "metadata": {},
   "source": [
    "## Run recursive implementation"
   ]
  },
  {
   "cell_type": "code",
   "execution_count": null,
   "id": "b09a95df-84fc-4170-82a8-94064c90058c",
   "metadata": {},
   "outputs": [],
   "source": [
    "results = sf.find_slices(\n",
    "    discrete_df.astype(int),\n",
    "    score_functions,\n",
    "    min_items=min_items, \n",
    "    n_slices=num_slices_to_return,\n",
    "    algorithm='recursive',\n",
    "    max_features=max_features,\n",
    ")"
   ]
  },
  {
   "cell_type": "code",
   "execution_count": null,
   "id": "24166a34-67ae-43cb-8a59-640e0ffe0b4b",
   "metadata": {},
   "outputs": [],
   "source": [
    "results"
   ]
  },
  {
   "cell_type": "markdown",
   "id": "fea01d8b-7d14-4137-9fea-28f4725fb37a",
   "metadata": {},
   "source": [
    "## Run sampling implementation"
   ]
  },
  {
   "cell_type": "code",
   "execution_count": null,
   "id": "dabf746f-fe07-4b99-9630-4a76cceb2ecc",
   "metadata": {},
   "outputs": [],
   "source": [
    "results_sampling_unranked = sf.find_slices(\n",
    "    discrete_df.astype(int),\n",
    "    score_functions,\n",
    "    algorithm='sampling',\n",
    "    source_mask=(discrete_outcomes == 0),\n",
    "    min_items=min_items,\n",
    "    num_samples=100,\n",
    "    num_candidates=None,\n",
    "    max_features=max_features\n",
    ")\n",
    "results_sampling = results_sampling_unranked.rank({fn_name: 1.0 for fn_name in score_functions},\n",
    "                                                  n_slices=num_slices_to_return, \n",
    "                                                  similarity_threshold=1.0)"
   ]
  },
  {
   "cell_type": "code",
   "execution_count": null,
   "id": "36ef6118-839f-457f-ae5e-ecad1ec5df21",
   "metadata": {},
   "outputs": [],
   "source": [
    "# Recall\n",
    "len(set(results_sampling) & set(results)) / len(results)"
   ]
  },
  {
   "cell_type": "code",
   "execution_count": null,
   "id": "678a2f7f-7c62-4515-bbe4-6ac058e67683",
   "metadata": {},
   "outputs": [],
   "source": [
    "len(results_sampling_unranked.results)"
   ]
  },
  {
   "cell_type": "code",
   "execution_count": null,
   "id": "e4833d7b-d187-4dd4-837f-cb918049c311",
   "metadata": {},
   "outputs": [],
   "source": []
  }
 ],
 "metadata": {
  "kernelspec": {
   "display_name": "Python 3 (ipykernel)",
   "language": "python",
   "name": "python3"
  },
  "language_info": {
   "codemirror_mode": {
    "name": "ipython",
    "version": 3
   },
   "file_extension": ".py",
   "mimetype": "text/x-python",
   "name": "python",
   "nbconvert_exporter": "python",
   "pygments_lexer": "ipython3",
   "version": "3.8.16"
  }
 },
 "nbformat": 4,
 "nbformat_minor": 5
}
