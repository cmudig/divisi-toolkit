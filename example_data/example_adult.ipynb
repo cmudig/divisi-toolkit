{
 "cells": [
  {
   "cell_type": "markdown",
   "id": "26310830-b9e0-46d7-b95a-6d7ef3720763",
   "metadata": {},
   "source": [
    "# Slice Finding on UCI Adult"
   ]
  },
  {
   "cell_type": "code",
   "execution_count": null,
   "id": "76691ec8-d59c-46ba-b25d-1420e8811277",
   "metadata": {},
   "outputs": [],
   "source": [
    "!pip install pandas\n",
    "!pip install xgboost\n",
    "!pip install scikit-learn"
   ]
  },
  {
   "cell_type": "code",
   "execution_count": null,
   "id": "566ab553-91ba-49dc-94d7-37e81024c91e",
   "metadata": {
    "tags": []
   },
   "outputs": [],
   "source": [
    "import numpy as np\n",
    "import pandas as pd\n",
    "from sklearn.model_selection import train_test_split\n",
    "import xgboost\n",
    "import slice_finding as sf"
   ]
  },
  {
   "cell_type": "code",
   "execution_count": null,
   "id": "5e659ff5-d18d-4cd8-b4a5-df4d2b174f6c",
   "metadata": {
    "tags": []
   },
   "outputs": [],
   "source": [
    "# Read the adult dataset and create a simple XGBoost model. The task is to predict\n",
    "# whether someone makes over 50K in income.\n",
    "\n",
    "df = pd.read_csv(\"adult.csv\")\n",
    "\n",
    "df_prepped = df.drop(columns=['fnlwgt', 'educational-num'])\n",
    "\n",
    "X = df_prepped.drop(columns=['income'])\n",
    "y = df_prepped['income'] == '>50K'\n",
    "\n",
    "X_continous  = X[['age', 'capital-gain', 'capital-loss', 'hours-per-week']]\n",
    "\n",
    "X_categorical = X[['workclass', 'education', 'marital-status', 'occupation', 'relationship', 'race',\n",
    "                   'gender', 'native-country']]\n",
    "\n",
    "X_encoded = pd.get_dummies(X_categorical)\n",
    "X = pd.concat([X_continous, X_encoded], axis=1)\n",
    "\n",
    "X_train, X_test, y_train, y_test = train_test_split(X, y, test_size=0.3, stratify=y)\n",
    "\n",
    "model = xgboost.XGBClassifier()\n",
    "model.fit(X_train, y_train)\n",
    "\n",
    "# Our outcomes will be y (true values), model_preds (predicted values), \n",
    "# model_probs (model probabilities of positive label), and is_error (if each prediction is incorrect).\n",
    "model_preds = model.predict(X)\n",
    "model_probs = model.predict_proba(X)\n",
    "is_error = model_preds != y\n",
    "print(f\"Train + test error rate: {is_error.mean():.2%}\")"
   ]
  },
  {
   "cell_type": "code",
   "execution_count": null,
   "id": "78e44cc9-104a-40a3-ac99-6bc9ad3b642b",
   "metadata": {
    "tags": []
   },
   "outputs": [],
   "source": [
    "# Discretize the dataset using a different method per-column so that we can perform slicing.\n",
    "\n",
    "discrete_df = sf.discretization.discretize_data(df, {\n",
    "    'age': { \"method\": \"bin\", \"bins\": [25, 45, 65] }, \n",
    "    'workclass': { \"method\": \"unique\" }, \n",
    "    'education': { \"method\": \"unique\" }, \n",
    "    'marital-status': { \"method\": \"unique\" }, \n",
    "    'occupation': { \"method\": \"unique\" }, \n",
    "    'relationship': { \"method\": \"unique\" }, \n",
    "    'race': { \"method\": \"unique\" }, \n",
    "    'gender': { \"method\": \"unique\" },   \n",
    "    'capital-gain': { \"method\": \"bin\", \"bins\": [1] }, \n",
    "    'capital-loss': { \"method\": \"bin\", \"bins\": [1] }, \n",
    "    'hours-per-week': { \"method\": \"bin\", \"bins\": [40] }, \n",
    "    'native-country': { \"method\": lambda x, c: (x != 'United-States', {0: 'US', 1: 'Non-US'}) },\n",
    "})"
   ]
  },
  {
   "cell_type": "code",
   "execution_count": null,
   "id": "b09a95df-84fc-4170-82a8-94064c90058c",
   "metadata": {
    "tags": []
   },
   "outputs": [],
   "source": [
    "# We can run on MPS (Apple silicon) or cuda if desired, but this incurs some \n",
    "# additional time to transfer data to the device so may not always be worth it.\n",
    "device = 'cpu'\n",
    "\n",
    "# Create a slice finder object. We can call .sample(n) on this object directly\n",
    "# to find slices programmatically without using the widget.\n",
    "slice_finder = sf.sampling.SamplingSliceFinder(\n",
    "    discrete_df,\n",
    "    # Score functions describing what slices to rank higher. For instance,\n",
    "    # OutcomeRateScore favors slices where the rate of the given binary outcome\n",
    "    # is higher inside the slice than outside.\n",
    "    {\n",
    "        \"positive_label\": sf.OutcomeRateScore(y.values).to(device),\n",
    "        \"error\": sf.OutcomeRateScore(is_error.values).to(device),\n",
    "        \"error_interaction\": sf.InteractionEffectScore(is_error.values).to(device),\n",
    "        \"slice_size\": sf.SliceSizeScore(0.25).to(device),\n",
    "        \"complexity\": sf.NumFeaturesScore().to(device)\n",
    "    },\n",
    "    # The rows to sample from. Here we sample from only errors\n",
    "    source_mask=is_error > 0,\n",
    "    # Minimum number of rows that must be part of a slice for it to be scored\n",
    "    min_items=int(len(discrete_df.df) * 0.01),\n",
    "    holdout_fraction=0.5,     # Proportion of rows to hold out for slice evaluation\n",
    "    max_features=3,           # Max number of slice features\n",
    "    n_workers=8,              # For parallelism\n",
    "    similarity_threshold=0.5, # Jaccard similarity between slices to be considered redundant\n",
    "    device=device\n",
    ")\n",
    "\n",
    "# Create a widget to control the slice finder and to show metrics for each slice\n",
    "w = sf.widget.SliceFinderWidget(slice_finder, metrics={\n",
    "    \"> 50K\": y.values,\n",
    "    \"Model Prob.\": model_probs[:,1],\n",
    "    \"Error\": is_error.values,\n",
    "}, score_weights={\"error\": 1.0, \"error_interaction\": 1.2, \"slice_size\": 0.3, \"complexity\": 0.2})\n",
    "w"
   ]
  },
  {
   "cell_type": "code",
   "execution_count": null,
   "id": "d725af2b-c502-4663-b54f-e420459130bc",
   "metadata": {},
   "outputs": [],
   "source": []
  }
 ],
 "metadata": {
  "kernelspec": {
   "display_name": "Python 3 (ipykernel)",
   "language": "python",
   "name": "python3"
  },
  "language_info": {
   "codemirror_mode": {
    "name": "ipython",
    "version": 3
   },
   "file_extension": ".py",
   "mimetype": "text/x-python",
   "name": "python",
   "nbconvert_exporter": "python",
   "pygments_lexer": "ipython3",
   "version": "3.9.18"
  }
 },
 "nbformat": 4,
 "nbformat_minor": 5
}
