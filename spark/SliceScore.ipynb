{
  "nbformat": 4,
  "nbformat_minor": 0,
  "metadata": {
    "colab": {
      "provenance": []
    },
    "kernelspec": {
      "name": "python3",
      "display_name": "Python 3"
    },
    "language_info": {
      "name": "python"
    }
  },
  "cells": [
    {
      "cell_type": "code",
      "execution_count": null,
      "metadata": {
        "colab": {
          "base_uri": "https://localhost:8080/",
          "height": 239
        },
        "id": "ANO9ef50NmIc",
        "outputId": "978a0c15-ab3e-411d-d1c1-d5a29a92aaeb"
      },
      "outputs": [
        {
          "output_type": "stream",
          "name": "stdout",
          "text": [
            "sample_data  spark-3.1.1-bin-hadoop3.2\tspark-3.1.1-bin-hadoop3.2.tgz\n"
          ]
        },
        {
          "output_type": "execute_result",
          "data": {
            "text/plain": [
              "<pyspark.sql.session.SparkSession at 0x7f6554067df0>"
            ],
            "text/html": [
              "\n",
              "            <div>\n",
              "                <p><b>SparkSession - in-memory</b></p>\n",
              "                \n",
              "        <div>\n",
              "            <p><b>SparkContext</b></p>\n",
              "\n",
              "            <p><a href=\"http://4d439615162a:4040\">Spark UI</a></p>\n",
              "\n",
              "            <dl>\n",
              "              <dt>Version</dt>\n",
              "                <dd><code>v3.1.1</code></dd>\n",
              "              <dt>Master</dt>\n",
              "                <dd><code>local[*]</code></dd>\n",
              "              <dt>AppName</dt>\n",
              "                <dd><code>pyspark-shell</code></dd>\n",
              "            </dl>\n",
              "        </div>\n",
              "        \n",
              "            </div>\n",
              "        "
            ]
          },
          "metadata": {},
          "execution_count": 1
        }
      ],
      "source": [
        "#setting up pyspark\n",
        "!apt-get install openjdk-8-jdk-headless -qq > /dev/null\n",
        "!wget -q http://archive.apache.org/dist/spark/spark-3.1.1/spark-3.1.1-bin-hadoop3.2.tgz\n",
        "!tar xf spark-3.1.1-bin-hadoop3.2.tgz\n",
        "!pip install -q findspark\n",
        "import os\n",
        "os.environ[\"JAVA_HOME\"] = \"/usr/lib/jvm/java-8-openjdk-amd64\"\n",
        "os.environ[\"SPARK_HOME\"] = \"/content/spark-3.1.1-bin-hadoop3.2\"\n",
        "!ls\n",
        "import findspark\n",
        "findspark.init()\n",
        "from pyspark.sql import SparkSession\n",
        "spark = SparkSession.builder.master(\"local[*]\").getOrCreate()\n",
        "spark.conf.set(\"spark.sql.repl.eagerEval.enabled\", True) # Property used to format output tables better\n",
        "spark"
      ]
    },
    {
      "cell_type": "code",
      "source": [
        "import pandas as pd\n",
        "discrete_df_pandas = pd.read_csv(\"housing_discrete.csv\", delimiter='\\t')\n",
        "discrete_outcomes_pandas = pd.read_csv(\"outcome_bins.csv\").rename(columns={\"0\": 'medv_bin'})\n",
        "\n",
        "df_pandas = pd.concat([discrete_df_pandas, discrete_outcomes_pandas], axis=1)\n",
        "df_pandas\n",
        "\n",
        "spark_df = spark.createDataFrame(df_pandas)\n",
        "spark_df.show()\n",
        "\n",
        "filtered_df = spark_df.filter((col(\"indus\") == 0) & (col(\"dis\") == 2))\n",
        "\n",
        "filtered_df.show()"
      ],
      "metadata": {
        "colab": {
          "base_uri": "https://localhost:8080/"
        },
        "id": "4B4QNvEYPltv",
        "outputId": "e1748990-51f9-48fe-da98-058fd8111f05"
      },
      "execution_count": null,
      "outputs": [
        {
          "output_type": "stream",
          "name": "stdout",
          "text": [
            "+----+---+-----+----+---+---+---+---+---+---+-------+-----+-----+--------+\n",
            "|crim| zn|indus|chas|nox| rm|age|dis|rad|tax|ptratio|black|lstat|medv_bin|\n",
            "+----+---+-----+----+---+---+---+---+---+---+-------+-----+-----+--------+\n",
            "|   0|  1|    0|   0|  2|  2|  1|  2|  0|  1|      0|    3|    0|       5|\n",
            "|   0|  0|    1|   0|  1|  2|  2|  2|  0|  0|      1|    3|    1|       4|\n",
            "|   0|  0|    1|   0|  1|  3|  1|  2|  0|  0|      1|    2|    0|       7|\n",
            "|   0|  0|    0|   0|  1|  3|  1|  3|  0|  0|      1|    2|    0|       7|\n",
            "|   0|  0|    0|   0|  1|  3|  1|  3|  0|  0|      1|    3|    0|       8|\n",
            "|   0|  0|    0|   0|  1|  2|  1|  3|  0|  0|      1|    2|    0|       6|\n",
            "|   0|  1|    1|   0|  1|  1|  1|  3|  2|  1|      0|    2|    2|       5|\n",
            "|   0|  1|    1|   0|  1|  1|  3|  3|  2|  1|      0|    3|    3|       6|\n",
            "|   0|  1|    1|   0|  1|  0|  3|  3|  2|  1|      0|    1|    3|       3|\n",
            "|   0|  1|    1|   0|  1|  1|  2|  3|  2|  1|      0|    1|    2|       4|\n",
            "|   0|  1|    1|   0|  1|  2|  3|  3|  2|  1|      0|    2|    3|       3|\n",
            "|   0|  1|    1|   0|  1|  1|  2|  3|  2|  1|      0|    3|    2|       4|\n",
            "|   0|  1|    1|   0|  1|  1|  0|  3|  2|  1|      0|    1|    2|       4|\n",
            "|   0|  0|    1|   0|  2|  1|  1|  2|  1|  1|      3|    3|    1|       4|\n",
            "|   0|  0|    1|   0|  2|  1|  2|  2|  1|  1|      3|    1|    1|       4|\n",
            "|   0|  0|    1|   0|  2|  0|  1|  2|  1|  1|      3|    2|    1|       4|\n",
            "|   0|  0|    1|   0|  2|  1|  0|  2|  1|  1|      3|    1|    0|       5|\n",
            "|   0|  0|    1|   0|  2|  1|  2|  2|  1|  1|      3|    1|    2|       3|\n",
            "|   0|  0|    1|   0|  2|  0|  0|  2|  1|  1|      3|    0|    2|       4|\n",
            "|   0|  0|    1|   0|  2|  0|  1|  2|  1|  1|      3|    1|    1|       4|\n",
            "+----+---+-----+----+---+---+---+---+---+---+-------+-----+-----+--------+\n",
            "only showing top 20 rows\n",
            "\n",
            "+----+---+-----+----+---+---+---+---+---+---+-------+-----+-----+--------+\n",
            "|crim| zn|indus|chas|nox| rm|age|dis|rad|tax|ptratio|black|lstat|medv_bin|\n",
            "+----+---+-----+----+---+---+---+---+---+---+-------+-----+-----+--------+\n",
            "|   0|  1|    0|   0|  2|  2|  1|  2|  0|  1|      0|    3|    0|       5|\n",
            "|   0|  0|    0|   0|  1|  2|  1|  2|  0|  0|      1|    3|    1|       5|\n",
            "|   0|  0|    0|   0|  1|  3|  1|  2|  0|  0|      1|    2|    0|       5|\n",
            "|   0|  0|    0|   0|  1|  1|  1|  2|  0|  0|      1|    2|    2|       4|\n",
            "|   0|  0|    0|   0|  1|  1|  1|  2|  0|  0|      1|    2|    1|       4|\n",
            "|   0|  0|    0|   0|  1|  3|  2|  2|  0|  0|      1|    3|    0|       5|\n",
            "|   0|  0|    0|   0|  1|  3|  1|  2|  0|  0|      1|    2|    0|       6|\n",
            "|   0|  0|    0|   0|  0|  3|  1|  2|  0|  0|      1|    0|    0|       6|\n",
            "|   0|  0|    0|   0|  0|  1|  1|  2|  0|  0|      1|    2|    1|       4|\n",
            "|   0|  0|    0|   0|  0|  3|  1|  2|  0|  0|      1|    3|    0|       8|\n",
            "|   0|  0|    0|   0|  0|  3|  0|  2|  0|  0|      1|    2|    0|       9|\n",
            "|   0|  0|    0|   0|  0|  3|  1|  2|  0|  0|      1|    3|    0|       7|\n",
            "|   0|  0|    0|   0|  1|  1|  1|  2|  2|  1|      0|    2|    1|       5|\n",
            "|   0|  0|    0|   0|  1|  2|  1|  2|  2|  1|      0|    2|    0|       5|\n",
            "|   0|  0|    0|   0|  1|  1|  1|  2|  0|  0|      1|    1|    2|       6|\n",
            "|   0|  1|    0|   0|  0|  3|  0|  2|  2|  2|      0|    2|    0|       7|\n",
            "|   0|  1|    0|   0|  0|  2|  0|  2|  2|  2|      0|    1|    0|       6|\n",
            "|   0|  1|    0|   0|  0|  3|  0|  2|  2|  2|      0|    3|    0|       7|\n",
            "|   0|  1|    0|   0|  0|  3|  0|  2|  1|  0|      0|    2|    0|      10|\n",
            "|   0|  1|    0|   0|  0|  3|  0|  2|  2|  0|      0|    3|    0|       7|\n",
            "+----+---+-----+----+---+---+---+---+---+---+-------+-----+-----+--------+\n",
            "only showing top 20 rows\n",
            "\n"
          ]
        }
      ]
    },
    {
      "cell_type": "code",
      "source": [
        "# importing dataset (discrete dataset for variables as well as outcomes - preprocessing done in jupyter)\n",
        "from pyspark.sql.functions import monotonically_increasing_id \n",
        "\n",
        "discrete_df = spark.read.format(\"csv\").option(\"header\", True).option(\"delimiter\", \"\\t\").load(\"housing_discrete.csv\")\n",
        "discrete_df = discrete_df.withColumn(\"id\", monotonically_increasing_id())\n",
        "discrete_df.show()\n",
        "filtered_df = discrete_df.filter((col(\"indus\") == 0) & (col(\"dis\") == 2))\n",
        "filtered_df.show()\n",
        "\n",
        "\n",
        "# print(discrete_df.count()) # avoid count in final code as it is an \"action\" in spark\n",
        "outcomes_df = spark.read.format(\"csv\").option(\"header\", True).option(\"delimiter\", \"\\t\").load(\"outcome_bins.csv\")\n",
        "outcomes_df = outcomes_df.toDF(\"medv_bin\")\n",
        "outcomes_df = outcomes_df.withColumn(\"id\", monotonically_increasing_id())\n",
        "# print(outcomes_df.count()) # avoid count in final code as it is an \"action\" in spark\n",
        "\n",
        "df = discrete_df.join(outcomes_df, \"id\")\n",
        "df.drop(\"id\")\n",
        "\n",
        "df.show()"
      ],
      "metadata": {
        "colab": {
          "base_uri": "https://localhost:8080/"
        },
        "id": "LuY-NRWoNsma",
        "outputId": "4b32123c-7e4b-42c6-ac1e-8a088d755132"
      },
      "execution_count": null,
      "outputs": [
        {
          "output_type": "stream",
          "name": "stdout",
          "text": [
            "+----+---+-----+----+---+---+---+---+---+---+-------+-----+-----+---+\n",
            "|crim| zn|indus|chas|nox| rm|age|dis|rad|tax|ptratio|black|lstat| id|\n",
            "+----+---+-----+----+---+---+---+---+---+---+-------+-----+-----+---+\n",
            "|   0|  1|    0|   0|  2|  2|  1|  2|  0|  1|      0|    3|    0|  0|\n",
            "|   0|  0|    1|   0|  1|  2|  2|  2|  0|  0|      1|    3|    1|  1|\n",
            "|   0|  0|    1|   0|  1|  3|  1|  2|  0|  0|      1|    2|    0|  2|\n",
            "|   0|  0|    0|   0|  1|  3|  1|  3|  0|  0|      1|    2|    0|  3|\n",
            "|   0|  0|    0|   0|  1|  3|  1|  3|  0|  0|      1|    3|    0|  4|\n",
            "|   0|  0|    0|   0|  1|  2|  1|  3|  0|  0|      1|    2|    0|  5|\n",
            "|   0|  1|    1|   0|  1|  1|  1|  3|  2|  1|      0|    2|    2|  6|\n",
            "|   0|  1|    1|   0|  1|  1|  3|  3|  2|  1|      0|    3|    3|  7|\n",
            "|   0|  1|    1|   0|  1|  0|  3|  3|  2|  1|      0|    1|    3|  8|\n",
            "|   0|  1|    1|   0|  1|  1|  2|  3|  2|  1|      0|    1|    2|  9|\n",
            "|   0|  1|    1|   0|  1|  2|  3|  3|  2|  1|      0|    2|    3| 10|\n",
            "|   0|  1|    1|   0|  1|  1|  2|  3|  2|  1|      0|    3|    2| 11|\n",
            "|   0|  1|    1|   0|  1|  1|  0|  3|  2|  1|      0|    1|    2| 12|\n",
            "|   0|  0|    1|   0|  2|  1|  1|  2|  1|  1|      3|    3|    1| 13|\n",
            "|   0|  0|    1|   0|  2|  1|  2|  2|  1|  1|      3|    1|    1| 14|\n",
            "|   0|  0|    1|   0|  2|  0|  1|  2|  1|  1|      3|    2|    1| 15|\n",
            "|   0|  0|    1|   0|  2|  1|  0|  2|  1|  1|      3|    1|    0| 16|\n",
            "|   0|  0|    1|   0|  2|  1|  2|  2|  1|  1|      3|    1|    2| 17|\n",
            "|   0|  0|    1|   0|  2|  0|  0|  2|  1|  1|      3|    0|    2| 18|\n",
            "|   0|  0|    1|   0|  2|  0|  1|  2|  1|  1|      3|    1|    1| 19|\n",
            "+----+---+-----+----+---+---+---+---+---+---+-------+-----+-----+---+\n",
            "only showing top 20 rows\n",
            "\n",
            "+----+---+-----+----+---+---+---+---+---+---+-------+-----+-----+---+\n",
            "|crim| zn|indus|chas|nox| rm|age|dis|rad|tax|ptratio|black|lstat| id|\n",
            "+----+---+-----+----+---+---+---+---+---+---+-------+-----+-----+---+\n",
            "|   0|  1|    0|   0|  2|  2|  1|  2|  0|  1|      0|    3|    0|  0|\n",
            "|   0|  0|    0|   0|  1|  2|  1|  2|  0|  0|      1|    3|    1|  1|\n",
            "|   0|  0|    0|   0|  1|  3|  1|  2|  0|  0|      1|    2|    0|  2|\n",
            "|   0|  0|    0|   0|  1|  1|  1|  2|  0|  0|      1|    2|    2|  3|\n",
            "|   0|  0|    0|   0|  1|  1|  1|  2|  0|  0|      1|    2|    1|  4|\n",
            "|   0|  0|    0|   0|  1|  3|  2|  2|  0|  0|      1|    3|    0|  5|\n",
            "|   0|  0|    0|   0|  1|  3|  1|  2|  0|  0|      1|    2|    0|  6|\n",
            "|   0|  0|    0|   0|  0|  3|  1|  2|  0|  0|      1|    0|    0|  7|\n",
            "|   0|  0|    0|   0|  0|  1|  1|  2|  0|  0|      1|    2|    1|  8|\n",
            "|   0|  0|    0|   0|  0|  3|  1|  2|  0|  0|      1|    3|    0|  9|\n",
            "|   0|  0|    0|   0|  0|  3|  0|  2|  0|  0|      1|    2|    0| 10|\n",
            "|   0|  0|    0|   0|  0|  3|  1|  2|  0|  0|      1|    3|    0| 11|\n",
            "|   0|  0|    0|   0|  1|  1|  1|  2|  2|  1|      0|    2|    1| 12|\n",
            "|   0|  0|    0|   0|  1|  2|  1|  2|  2|  1|      0|    2|    0| 13|\n",
            "|   0|  0|    0|   0|  1|  1|  1|  2|  0|  0|      1|    1|    2| 14|\n",
            "|   0|  1|    0|   0|  0|  3|  0|  2|  2|  2|      0|    2|    0| 15|\n",
            "|   0|  1|    0|   0|  0|  2|  0|  2|  2|  2|      0|    1|    0| 16|\n",
            "|   0|  1|    0|   0|  0|  3|  0|  2|  2|  2|      0|    3|    0| 17|\n",
            "|   0|  1|    0|   0|  0|  3|  0|  2|  1|  0|      0|    2|    0| 18|\n",
            "|   0|  1|    0|   0|  0|  3|  0|  2|  2|  0|      0|    3|    0| 19|\n",
            "+----+---+-----+----+---+---+---+---+---+---+-------+-----+-----+---+\n",
            "only showing top 20 rows\n",
            "\n",
            "+---+----+---+-----+----+---+---+---+---+---+---+-------+-----+-----+--------+\n",
            "| id|crim| zn|indus|chas|nox| rm|age|dis|rad|tax|ptratio|black|lstat|medv_bin|\n",
            "+---+----+---+-----+----+---+---+---+---+---+---+-------+-----+-----+--------+\n",
            "|  0|   0|  1|    0|   0|  2|  2|  1|  2|  0|  1|      0|    3|    0|       5|\n",
            "|  1|   0|  0|    1|   0|  1|  2|  2|  2|  0|  0|      1|    3|    1|       4|\n",
            "|  2|   0|  0|    1|   0|  1|  3|  1|  2|  0|  0|      1|    2|    0|       7|\n",
            "|  3|   0|  0|    0|   0|  1|  3|  1|  3|  0|  0|      1|    2|    0|       7|\n",
            "|  4|   0|  0|    0|   0|  1|  3|  1|  3|  0|  0|      1|    3|    0|       8|\n",
            "|  5|   0|  0|    0|   0|  1|  2|  1|  3|  0|  0|      1|    2|    0|       6|\n",
            "|  6|   0|  1|    1|   0|  1|  1|  1|  3|  2|  1|      0|    2|    2|       5|\n",
            "|  7|   0|  1|    1|   0|  1|  1|  3|  3|  2|  1|      0|    3|    3|       6|\n",
            "|  8|   0|  1|    1|   0|  1|  0|  3|  3|  2|  1|      0|    1|    3|       3|\n",
            "|  9|   0|  1|    1|   0|  1|  1|  2|  3|  2|  1|      0|    1|    2|       4|\n",
            "| 10|   0|  1|    1|   0|  1|  2|  3|  3|  2|  1|      0|    2|    3|       3|\n",
            "| 11|   0|  1|    1|   0|  1|  1|  2|  3|  2|  1|      0|    3|    2|       4|\n",
            "| 12|   0|  1|    1|   0|  1|  1|  0|  3|  2|  1|      0|    1|    2|       4|\n",
            "| 13|   0|  0|    1|   0|  2|  1|  1|  2|  1|  1|      3|    3|    1|       4|\n",
            "| 14|   0|  0|    1|   0|  2|  1|  2|  2|  1|  1|      3|    1|    1|       4|\n",
            "| 15|   0|  0|    1|   0|  2|  0|  1|  2|  1|  1|      3|    2|    1|       4|\n",
            "| 16|   0|  0|    1|   0|  2|  1|  0|  2|  1|  1|      3|    1|    0|       5|\n",
            "| 17|   0|  0|    1|   0|  2|  1|  2|  2|  1|  1|      3|    1|    2|       3|\n",
            "| 18|   0|  0|    1|   0|  2|  0|  0|  2|  1|  1|      3|    0|    2|       4|\n",
            "| 19|   0|  0|    1|   0|  2|  0|  1|  2|  1|  1|      3|    1|    1|       4|\n",
            "+---+----+---+-----+----+---+---+---+---+---+---+-------+-----+-----+--------+\n",
            "only showing top 20 rows\n",
            "\n"
          ]
        }
      ]
    },
    {
      "cell_type": "code",
      "source": [
        "# calculate entropy, mean, stddev for outcomes (all rows) which is common irrespective of what slice we pick\n",
        "\n",
        "from pyspark.sql.functions import col, count, sum, col, log2, mean, stddev\n",
        "\n",
        "outcomes = df.select(\"medv_bin\")\n",
        "outcomes.show()\n",
        "grouped_data = outcomes_df.groupBy(\"medv_bin\").count()\n",
        "grouped_data = grouped_data.withColumn(\"count\", col(\"count\").cast(\"int\"))\n",
        "grouped_data.show()\n",
        "total_count = grouped_data.agg(sum(\"count\")).collect()[0][0]\n",
        "\n",
        "probabilities = grouped_data.withColumn(\"probability\", (-1 * (col(\"count\") / total_count) * log2(col(\"count\") / total_count)))\n",
        "# probabilities.show()\n",
        "\n",
        "outcome_entropy = probabilities.agg(sum(\"probability\")).collect()[0][0]\n",
        "outcome_mean = outcomes.select(mean(\"medv_bin\")).collect()[0][0]\n",
        "outcome_stddev = df.select(stddev(\"medv_bin\")).collect()[0][0]\n",
        "\n",
        "print (\"outcome_entropy: \", outcome_entropy)\n",
        "print (\"outcome_mean: \", outcome_mean)\n",
        "print (\"outcome_stddev: \", outcome_stddev)"
      ],
      "metadata": {
        "colab": {
          "base_uri": "https://localhost:8080/"
        },
        "id": "PlpgPY_wOLRy",
        "outputId": "fe1663b8-731b-4a5f-c3f0-1c12a704e1c8"
      },
      "execution_count": null,
      "outputs": [
        {
          "output_type": "stream",
          "name": "stdout",
          "text": [
            "+--------+\n",
            "|medv_bin|\n",
            "+--------+\n",
            "|       5|\n",
            "|       4|\n",
            "|       7|\n",
            "|       7|\n",
            "|       8|\n",
            "|       6|\n",
            "|       5|\n",
            "|       6|\n",
            "|       3|\n",
            "|       4|\n",
            "|       3|\n",
            "|       4|\n",
            "|       4|\n",
            "|       4|\n",
            "|       4|\n",
            "|       4|\n",
            "|       5|\n",
            "|       3|\n",
            "|       4|\n",
            "|       4|\n",
            "+--------+\n",
            "only showing top 20 rows\n",
            "\n",
            "+--------+-----+\n",
            "|medv_bin|count|\n",
            "+--------+-----+\n",
            "|       7|   30|\n",
            "|      11|    1|\n",
            "|       3|   81|\n",
            "|       8|   13|\n",
            "|       5|   96|\n",
            "|       6|   39|\n",
            "|       9|    8|\n",
            "|       1|   21|\n",
            "|      10|    6|\n",
            "|       4|  147|\n",
            "|       2|   48|\n",
            "+--------+-----+\n",
            "\n",
            "outcome_entropy:  2.8033607009396215\n",
            "outcome_mean:  4.3244897959183675\n",
            "outcome_stddev:  1.811915865931041\n"
          ]
        }
      ]
    },
    {
      "cell_type": "code",
      "source": [
        "# now build a dataframe for slice from original df\n",
        "from pyspark.sql.functions import when\n",
        "\n",
        "# example slice for indus=0 AND dis=2\n",
        "\n",
        "\n",
        "\n",
        "# example_slice_df = df.withColumn(\"slice\", \n",
        "#                    when((col(\"indus\") == 0) & (col(\"dis\") == 2), True)\n",
        "#                    .otherwise(False))\n",
        "# example_slice_df.show()\n",
        "example_slice_df = df.filter((col(\"indus\") == 0) & (col(\"dis\") == 2))\n",
        "example_slice_df.show()\n",
        "\n",
        "print(example_slice_df.count(), \"examples in slice\")\n",
        "example_slice_df.show()"
      ],
      "metadata": {
        "colab": {
          "base_uri": "https://localhost:8080/"
        },
        "id": "wETGeEdpVlIi",
        "outputId": "fe39abfd-4f90-4a48-d90b-38bb05ac770e"
      },
      "execution_count": null,
      "outputs": [
        {
          "output_type": "stream",
          "name": "stdout",
          "text": [
            "+---+----+---+-----+----+---+---+---+---+---+---+-------+-----+-----+--------+\n",
            "| id|crim| zn|indus|chas|nox| rm|age|dis|rad|tax|ptratio|black|lstat|medv_bin|\n",
            "+---+----+---+-----+----+---+---+---+---+---+---+-------+-----+-----+--------+\n",
            "|  0|   0|  1|    0|   0|  2|  2|  1|  2|  0|  1|      0|    3|    0|       5|\n",
            "|  1|   0|  0|    0|   0|  1|  2|  1|  2|  0|  0|      1|    3|    1|       4|\n",
            "|  2|   0|  0|    0|   0|  1|  3|  1|  2|  0|  0|      1|    2|    0|       7|\n",
            "|  3|   0|  0|    0|   0|  1|  1|  1|  2|  0|  0|      1|    2|    2|       7|\n",
            "|  4|   0|  0|    0|   0|  1|  1|  1|  2|  0|  0|      1|    2|    1|       8|\n",
            "|  5|   0|  0|    0|   0|  1|  3|  2|  2|  0|  0|      1|    3|    0|       6|\n",
            "|  6|   0|  0|    0|   0|  1|  3|  1|  2|  0|  0|      1|    2|    0|       5|\n",
            "|  7|   0|  0|    0|   0|  0|  3|  1|  2|  0|  0|      1|    0|    0|       6|\n",
            "|  8|   0|  0|    0|   0|  0|  1|  1|  2|  0|  0|      1|    2|    1|       3|\n",
            "|  9|   0|  0|    0|   0|  0|  3|  1|  2|  0|  0|      1|    3|    0|       4|\n",
            "| 10|   0|  0|    0|   0|  0|  3|  0|  2|  0|  0|      1|    2|    0|       3|\n",
            "| 11|   0|  0|    0|   0|  0|  3|  1|  2|  0|  0|      1|    3|    0|       4|\n",
            "| 12|   0|  0|    0|   0|  1|  1|  1|  2|  2|  1|      0|    2|    1|       4|\n",
            "| 13|   0|  0|    0|   0|  1|  2|  1|  2|  2|  1|      0|    2|    0|       4|\n",
            "| 14|   0|  0|    0|   0|  1|  1|  1|  2|  0|  0|      1|    1|    2|       4|\n",
            "| 15|   0|  1|    0|   0|  0|  3|  0|  2|  2|  2|      0|    2|    0|       4|\n",
            "| 16|   0|  1|    0|   0|  0|  2|  0|  2|  2|  2|      0|    1|    0|       5|\n",
            "| 17|   0|  1|    0|   0|  0|  3|  0|  2|  2|  2|      0|    3|    0|       3|\n",
            "| 18|   0|  1|    0|   0|  0|  3|  0|  2|  1|  0|      0|    2|    0|       4|\n",
            "| 19|   0|  1|    0|   0|  0|  3|  0|  2|  2|  0|      0|    3|    0|       4|\n",
            "+---+----+---+-----+----+---+---+---+---+---+---+-------+-----+-----+--------+\n",
            "only showing top 20 rows\n",
            "\n",
            "27 examples in slice\n",
            "+---+----+---+-----+----+---+---+---+---+---+---+-------+-----+-----+--------+\n",
            "| id|crim| zn|indus|chas|nox| rm|age|dis|rad|tax|ptratio|black|lstat|medv_bin|\n",
            "+---+----+---+-----+----+---+---+---+---+---+---+-------+-----+-----+--------+\n",
            "|  0|   0|  1|    0|   0|  2|  2|  1|  2|  0|  1|      0|    3|    0|       5|\n",
            "|  1|   0|  0|    0|   0|  1|  2|  1|  2|  0|  0|      1|    3|    1|       4|\n",
            "|  2|   0|  0|    0|   0|  1|  3|  1|  2|  0|  0|      1|    2|    0|       7|\n",
            "|  3|   0|  0|    0|   0|  1|  1|  1|  2|  0|  0|      1|    2|    2|       7|\n",
            "|  4|   0|  0|    0|   0|  1|  1|  1|  2|  0|  0|      1|    2|    1|       8|\n",
            "|  5|   0|  0|    0|   0|  1|  3|  2|  2|  0|  0|      1|    3|    0|       6|\n",
            "|  6|   0|  0|    0|   0|  1|  3|  1|  2|  0|  0|      1|    2|    0|       5|\n",
            "|  7|   0|  0|    0|   0|  0|  3|  1|  2|  0|  0|      1|    0|    0|       6|\n",
            "|  8|   0|  0|    0|   0|  0|  1|  1|  2|  0|  0|      1|    2|    1|       3|\n",
            "|  9|   0|  0|    0|   0|  0|  3|  1|  2|  0|  0|      1|    3|    0|       4|\n",
            "| 10|   0|  0|    0|   0|  0|  3|  0|  2|  0|  0|      1|    2|    0|       3|\n",
            "| 11|   0|  0|    0|   0|  0|  3|  1|  2|  0|  0|      1|    3|    0|       4|\n",
            "| 12|   0|  0|    0|   0|  1|  1|  1|  2|  2|  1|      0|    2|    1|       4|\n",
            "| 13|   0|  0|    0|   0|  1|  2|  1|  2|  2|  1|      0|    2|    0|       4|\n",
            "| 14|   0|  0|    0|   0|  1|  1|  1|  2|  0|  0|      1|    1|    2|       4|\n",
            "| 15|   0|  1|    0|   0|  0|  3|  0|  2|  2|  2|      0|    2|    0|       4|\n",
            "| 16|   0|  1|    0|   0|  0|  2|  0|  2|  2|  2|      0|    1|    0|       5|\n",
            "| 17|   0|  1|    0|   0|  0|  3|  0|  2|  2|  2|      0|    3|    0|       3|\n",
            "| 18|   0|  1|    0|   0|  0|  3|  0|  2|  1|  0|      0|    2|    0|       4|\n",
            "| 19|   0|  1|    0|   0|  0|  3|  0|  2|  2|  0|      0|    3|    0|       4|\n",
            "+---+----+---+-----+----+---+---+---+---+---+---+-------+-----+-----+--------+\n",
            "only showing top 20 rows\n",
            "\n"
          ]
        }
      ]
    },
    {
      "cell_type": "code",
      "source": [
        "slice_outcomes = example_slice_df.select(\"medv_bin\")\n",
        "print(slice_outcomes.collect())\n",
        "slice_grouped_data = slice_outcomes.groupBy(\"medv_bin\").count()\n",
        "slice_grouped_data = slice_grouped_data.withColumn(\"count\", col(\"count\").cast(\"int\"))\n",
        "slice_grouped_data.show()\n",
        "slice_count = slice_grouped_data.agg(sum(\"count\")).collect()[0][0]\n",
        "\n",
        "slice_probabilities = slice_grouped_data.withColumn(\"probability\", (-1 * (col(\"count\") / slice_count) * log2(col(\"count\") / slice_count)))\n",
        "# probabilities.show()\n",
        "\n",
        "slice_outcome_entropy = slice_probabilities.agg(sum(\"probability\")).collect()[0][0]\n",
        "slice_outcome_mean = slice_outcomes.select(mean(\"medv_bin\")).collect()[0][0]\n",
        "\n",
        "print (\"slice_outcome_entropy: \", slice_outcome_entropy)\n",
        "print (\"slice_outcome_mean: \", slice_outcome_mean)"
      ],
      "metadata": {
        "colab": {
          "base_uri": "https://localhost:8080/"
        },
        "id": "sKXzBOBDW-Pg",
        "outputId": "bd23824b-34bc-4b16-cba5-b090d17309cb"
      },
      "execution_count": null,
      "outputs": [
        {
          "output_type": "stream",
          "name": "stdout",
          "text": [
            "[Row(medv_bin='5'), Row(medv_bin='4'), Row(medv_bin='7'), Row(medv_bin='7'), Row(medv_bin='8'), Row(medv_bin='6'), Row(medv_bin='5'), Row(medv_bin='6'), Row(medv_bin='3'), Row(medv_bin='4'), Row(medv_bin='3'), Row(medv_bin='4'), Row(medv_bin='4'), Row(medv_bin='4'), Row(medv_bin='4'), Row(medv_bin='4'), Row(medv_bin='5'), Row(medv_bin='3'), Row(medv_bin='4'), Row(medv_bin='4'), Row(medv_bin='2'), Row(medv_bin='4'), Row(medv_bin='3'), Row(medv_bin='3'), Row(medv_bin='3'), Row(medv_bin='3'), Row(medv_bin='3')]\n",
            "+--------+-----+\n",
            "|medv_bin|count|\n",
            "+--------+-----+\n",
            "|       7|    2|\n",
            "|       3|    8|\n",
            "|       8|    1|\n",
            "|       5|    3|\n",
            "|       6|    2|\n",
            "|       4|   10|\n",
            "|       2|    1|\n",
            "+--------+-----+\n",
            "\n",
            "slice_outcome_entropy:  2.3113997817546874\n",
            "slice_outcome_mean:  4.2592592592592595\n"
          ]
        }
      ]
    },
    {
      "cell_type": "code",
      "source": [
        "entropy_score = outcome_entropy/slice_outcome_entropy\n",
        "mean_difference_l1 = (slice_outcome_mean - outcome_mean) / outcome_stddev\n",
        "# group_size = log2(1 + slice_count / count)\n",
        "\n",
        "print(\"Entropy score: \", entropy_score)\n",
        "print(\"Difference score: \", mean_difference_l1)\n",
        "# print(\"Group size score:\", group_size(df, slice_grouped_data))"
      ],
      "metadata": {
        "colab": {
          "base_uri": "https://localhost:8080/"
        },
        "id": "czqeEU3nYbae",
        "outputId": "ea620b08-59d3-43e5-c717-131fa1a99ae2"
      },
      "execution_count": null,
      "outputs": [
        {
          "output_type": "stream",
          "name": "stdout",
          "text": [
            "Entropy score:  1.212841120375751\n",
            "Difference score:  -0.036000863994636784\n"
          ]
        }
      ]
    }
  ]
}